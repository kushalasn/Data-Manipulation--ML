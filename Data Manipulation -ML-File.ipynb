{
 "cells": [
  {
   "cell_type": "markdown",
   "metadata": {},
   "source": [
    "## Data from World Happiness Report\n",
    "\n",
    "The World Happiness Report is an annual publication of the United Nations Sustainable Development Solutions Network. It contains articles, and rankings of national happiness based on respondent ratings of their own lives, which the report also correlates with various life factors.\n",
    "\n",
    "In this notebook we will explore the happiness of different countries and the features associated.\n",
    "The datasets that we will use are available in *Data*: **happiness2020.pkl** and **countries_info.csv**.\n",
    "\n",
    "Although the features are self-explanatory, here a summary: \n",
    "\n",
    "**happiness2020.pkl**\n",
    "* country: *Name of the country*\n",
    "* happiness_score: *Happiness score*\n",
    "* social_support: *Social support (mitigation the effects of inequality)*\n",
    "* healthy_life_expectancy: *Healthy Life Expectancy*\n",
    "* freedom_of_choices: *Freedom to make life choices*\n",
    "* generosity: *Generosity (charity, volunteers)*\n",
    "* perception_of_corruption: *Corruption Perception*\n",
    "* world_region: *Area of the world of the country*\n",
    "\n",
    "**countries_info.csv**\n",
    "* country_name: *Name of the country*\n",
    "* area: *Area in sq mi*\n",
    "* population: *Number of people*\n",
    "* literacy: *Literacy percentage*"
   ]
  },
  {
   "cell_type": "code",
   "execution_count": 2,
   "metadata": {},
   "outputs": [],
   "source": [
    "DATA_FOLDER = 'Data/'\n",
    "\n",
    "HAPPINESS_DATASET = DATA_FOLDER+\"happiness2020.csv\"\n",
    "COUNTRIES_DATASET = DATA_FOLDER+\"countries_info.csv\""
   ]
  },
  {
   "cell_type": "markdown",
   "metadata": {},
   "source": [
    "## Task 1: Load the data\n",
    "\n",
    "Load the 2 datasets in Pandas dataframes (called *happiness* and *countries*), and show the first rows."
   ]
  },
  {
   "cell_type": "code",
   "execution_count": 3,
   "metadata": {},
   "outputs": [],
   "source": [
    "# Write your code here\n",
    "import numpy as np\n",
    "import pandas as pd\n",
    "happiness=pd.read_csv(\"C:/Users/kushal/Desktop/interview_quiz/Data/happiness2020.csv\")\n",
    "countries=pd.read_csv(\"C:/Users/kushal/Desktop/interview_quiz/Data/countries_info.csv\")\n",
    "happiness.head()\n",
    "#print(\"----------------\") to distinguish the two dataframes\n",
    "#countries.head()"
   ]
  },
  {
   "cell_type": "markdown",
   "metadata": {},
   "source": [
    "## Task 2: Let's merge the data\n",
    "\n",
    "Create a dataframe called *country_features* by merging *happiness* and *countries*. A row of this dataframe must describe all the features that we have about a country.\n",
    "\n"
   ]
  },
  {
   "cell_type": "code",
   "execution_count": 4,
   "metadata": {},
   "outputs": [],
   "source": [
    "# Write your code here\n",
    "countries=pd.read_csv(\"C:/Users/kushal/Desktop/interview_quiz/Data/countries_info.csv\")\n",
    "happiness=pd.read_csv(\"C:/Users/kushal/Desktop/interview_quiz/Data/happiness2020.csv\")\n",
    "happiness['country']=happiness['country'].str.lower()\n",
    "country_features=countries.merge(happiness,left_on=\"country_name\",right_on=\"country\")\n",
    "country_features.head()"
   ]
  },
  {
   "cell_type": "markdown",
   "metadata": {},
   "source": [
    "## Task 3: Where do people are happier?\n",
    "\n",
    "Print the top 10 countries based on their happiness score (high is better)."
   ]
  },
  {
   "cell_type": "code",
   "execution_count": 5,
   "metadata": {},
   "outputs": [],
   "source": [
    "# Write your code here\n",
    "ref_df=happiness.sort_values(by=['happiness_score'],ascending=False)\n",
    "ref_df['country'].head(10)\n",
    "#printing top 10 countries based on happiness index"
   ]
  },
  {
   "cell_type": "markdown",
   "metadata": {},
   "source": [
    "We are interested to know in what world region the people are happier. \n",
    "\n",
    "Create and print a dataframe with the (1) average happiness score and (2) the number of contries for each world region.\n",
    "Sort the result to show the happiness ranking."
   ]
  },
  {
   "cell_type": "code",
   "execution_count": 6,
   "metadata": {},
   "outputs": [],
   "source": [
    "# Write your code here\n",
    "ref3_frame=happiness.groupby(['world_region'])['happiness_score'].agg('mean')\n",
    "ref31=ref3_frame.to_frame()\n",
    "ref31"
   ]
  },
  {
   "cell_type": "markdown",
   "metadata": {},
   "source": [
    "The first region has only a few countries! What are them and what is their score?"
   ]
  },
  {
   "cell_type": "code",
   "execution_count": 7,
   "metadata": {},
   "outputs": [],
   "source": [
    "# Write your code here\n",
    "ref4_frame=happiness.groupby('world_region').count()\n",
    "#distinct commenting important\n",
    "ref4_frame\n"
   ]
  },
  {
   "cell_type": "markdown",
   "metadata": {},
   "source": [
    "## Task 4: How literate is the world?\n",
    "\n",
    "Print the name of countries with a level of literacy of 100%. \n",
    "\n",
    "For each country, print the name and the world region with the format: *{region name} - {country name} ({happiness score})*"
   ]
  },
  {
   "cell_type": "code",
   "execution_count": 8,
   "metadata": {},
   "outputs": [],
   "source": [
    "# Write your code here\n",
    "countries.head()\n",
    "countries1=countries[countries.literacy=='100,0']\n",
    "countries1\n",
    "for i in countries1['country_name']:\n",
    "    print(i)\n",
    "   "
   ]
  },
  {
   "cell_type": "markdown",
   "metadata": {},
   "source": [
    "What is the global average?"
   ]
  },
  {
   "cell_type": "code",
   "execution_count": 9,
   "metadata": {},
   "outputs": [],
   "source": [
    "# Write your code here\n",
    "countries=pd.read_csv(\"C:/Users/kushal/Desktop/interview_quiz/Data/countries_info.csv\")\n",
    "countries_sampling=countries['literacy_sampling']\n",
    "countries_sampling=countries_sampling.to_frame()\n",
    "countries_sampling['literacy_sampling'].agg('mean')"
   ]
  },
  {
   "cell_type": "markdown",
   "metadata": {},
   "source": [
    "Calculate the proportion of countries with a literacy level below 50%. Print the value in percentage, formatted with 2 decimals."
   ]
  },
  {
   "cell_type": "code",
   "execution_count": 10,
   "metadata": {},
   "outputs": [],
   "source": [
    "# Write your code here\n",
    "countries=pd.read_csv(\"C:/Users/kushal/Desktop/interview_quiz/Data/countries_info.csv\")\n",
    "countries_sampling=countries['literacy_sampling']\n",
    "countries_sampling=countries_sampling.to_frame()\n",
    "\n",
    "countries_sampling=countries_sampling[countries_sampling.literacy_sampling<50.0]\n",
    "percentage=(len(countries_sampling)/len(countries))*100\n",
    "print(str(round(percentage, 2)))"
   ]
  },
  {
   "cell_type": "markdown",
   "metadata": {},
   "source": [
    "Print the raw number and the percentage of world population that is illiterate."
   ]
  },
  {
   "cell_type": "code",
   "execution_count": 11,
   "metadata": {},
   "outputs": [],
   "source": [
    "# Write your code here\n",
    "countries_sampling=countries_sampling[countries_sampling.literacy_sampling<50.0]\n",
    "percentage=(len(countries_sampling)/len(countries))*100\n",
    "print(str(round(percentage, 2)))\n"
   ]
  },
  {
   "cell_type": "markdown",
   "metadata": {},
   "source": [
    "## Task 5: Population density\n",
    "\n",
    "Add to the dataframe a new field called *population_density*."
   ]
  },
  {
   "cell_type": "code",
   "execution_count": 12,
   "metadata": {},
   "outputs": [],
   "source": [
    "# Write your code here\n",
    "import numpy as np\n",
    "import matplotlib.pyplot as plt\n",
    "plt.scatter(country_features['happiness_score'], country_features['healthy_life_expectancy'], alpha=0.5)\n",
    "plt.show()"
   ]
  },
  {
   "cell_type": "markdown",
   "metadata": {},
   "source": [
    "What is the happiness score of the 3 countries with lowest population density?"
   ]
  },
  {
   "cell_type": "code",
   "execution_count": 13,
   "metadata": {},
   "outputs": [],
   "source": [
    "# Write your code here\n",
    "country_features.sort_values(by=['population_density'])['country_name'].head(3)"
   ]
  },
  {
   "cell_type": "markdown",
   "metadata": {},
   "source": [
    "## Task 6: Health and happiness?\n",
    "\n",
    "show happiness score (x) vs. healty like expectancy (y) in a proper plot"
   ]
  },
  {
   "cell_type": "code",
   "execution_count": 14,
   "metadata": {},
   "outputs": [],
   "source": [
    "# Write your code here\n",
    "import numpy as np\n",
    "import matplotlib.pyplot as plt\n",
    "plt.scatter(country_features['happiness_score'], country_features['healthy_life_expectancy'], alpha=0.5)\n",
    "plt.show()"
   ]
  },
  {
   "cell_type": "markdown",
   "metadata": {},
   "source": [
    "## Task 7: Healty-Happy Hypothesis?\n",
    "\n",
    "What Hypothesis you can come up with looking at the plot?\n",
    "\n",
    "What kind of analysis we can utilize to understand how credible is our hypothesis?\n",
    "\n",
    "Use scikit-learn to do the analysis and describe shortly how well one can argue that the hypothesis hold?"
   ]
  },
  {
   "cell_type": "code",
   "execution_count": 15,
   "metadata": {},
   "outputs": [],
   "source": [
    "# Write your code here \n",
    "import numpy as np\n",
    "import matplotlib.pyplot as plt\n",
    "plt.scatter(country_features['happiness_score'], country_features['healthy_life_expectancy'], alpha=0.5)\n",
    "plt.show()\n",
    "#There is a strong positive corealtion among the two columns, they are positively co-related.Null hypothesis is that they are strongly co-related.Alternative(H-alpha) is that they are not stringly co-related."
   ]
  },
  {
   "cell_type": "markdown",
   "metadata": {},
   "source": [
    "## Task 8: Region and happiness?\n",
    "\n",
    "Plot in a proper plot happiness vs the region of the countries?\n",
    "\n",
    "What plot you would use and why?\n",
    "\n",
    "You might need to use seaborn package!"
   ]
  },
  {
   "cell_type": "code",
   "execution_count": 16,
   "metadata": {},
   "outputs": [],
   "source": [
    "# Write your code here\n",
    "merged_frame=ref31.merge(ref4_frame,left_on=\"world_region\",right_on=\"world_region\")\n",
    "\n",
    "ax = merged_frame.plot.bar()\n",
    "ax\n",
    "#We would need to use the barplot using matplotlib or seaborn package,since the x-axis we are dealing with are distinct category of world region  wheras the y-axis is happiness score index which is continous data.Hence, we would use the barplot for visualization here"
   ]
  },
  {
   "cell_type": "markdown",
   "metadata": {},
   "source": [
    "## Task 9: Region-Happiness category Hypothesis?\n",
    "\n",
    "Now let's categorize countries based on whether they are happy countries or not?\n",
    "\n",
    "Use the mean value of the happiness to categorzie countries as happy/unhappy countries and a column to the dataset expressing whether the coubntry is happy or not.\n",
    "\n",
    "Now we want to test the hypothesis that whether the region of a country correlates with the fact that the people are happy-unhappy, design a proper test to examine this hypothesis and analyze your result ."
   ]
  },
  {
   "cell_type": "code",
   "execution_count": 17,
   "metadata": {},
   "outputs": [],
   "source": [
    "# Write your code here\n",
    "The final hypothesis shows the country correlation that examining"
   ]
  },
  {
   "cell_type": "markdown",
   "metadata": {},
   "source": [
    "## Task 10: Happiness vs. region and Health?\n",
    "\n",
    "We now want to see the influence of the health on happiness in different regions of the World.\n",
    "\n",
    "Use you visualization skills to show the relation of happiness and health in different parts of the world."
   ]
  },
  {
   "cell_type": "code",
   "execution_count": 18,
   "metadata": {},
   "outputs": [],
   "source": [
    "# Write your code here\n",
    "merged_frame=ref31.merge(ref4_frame,left_on=\"world_region\",right_on=\"world_region\")\n",
    "\n",
    "ax = merged_frame.plot.bar(x=merged_frame['happiness_score_x'],y=merged_frame['world_region'])\n",
    "ax\n",
    "\n",
    "merged_frame=ref31.merge(ref4_frame,left_on=\"world_region\",right_on=\"world_region\")\n",
    "\n",
    "ax = merged_frame.plot.bar(x=merged_frame['health_life_expectancy'],y=merged_frame['world_region'])\n",
    "ax\n"
   ]
  },
  {
   "cell_type": "markdown",
   "metadata": {},
   "source": [
    "## Task 11: population category?\n",
    "\n",
    "Now let's make countries groups with different population. Categorize countries based on the following criteria and make a column to the dataset containing their groups\n",
    "\n",
    "Group 0 -> countries with population less than 1 million \n",
    "\n",
    "Group 1 -> countries with population between 1 million and 10 million \n",
    "\n",
    "Group 2 -> countries with population between 10 million and 100 million \n",
    "\n",
    "Group 3 -> countries with population between 100 million and 1000 million"
   ]
  },
  {
   "cell_type": "code",
   "execution_count": 19,
   "metadata": {},
   "outputs": [],
   "source": [
    "# Write your code here\n",
    "import pandas as pd\n",
    "countries.head()\n",
    "\n",
    "print(type(countries))\n",
    "countries['population']=countries['population']\n",
    "countries.loc[countries['population'] <=1000000, 'group'] = 'Group 0' \n",
    "countries.loc[((countries['population'] > 1000000) & (countries['population'] <= 10000000)) , 'group'] = 'Group 1' \n",
    "countries.loc[((countries['population'] > 10000000) & (countries['population'] <= 100000000)) , 'group'] = 'Group 2' \n",
    "countries.loc[((countries['population'] > 100000000) & (countries['population'] <= 1000000000)) , 'group'] = 'Group 3' \n",
    "print (countries)"
   ]
  },
  {
   "cell_type": "markdown",
   "metadata": {},
   "source": [
    "## Task 12: Happiness vs. population category and world region?\n",
    "\n",
    "Visulaize the Happiness score of countries based on their population category and world region\n",
    "\n",
    "What kind of plot you would use ? why?"
   ]
  },
  {
   "cell_type": "code",
   "execution_count": 20,
   "metadata": {},
   "outputs": [],
   "source": [
    "# Write your code here\n",
    "import numpy as np\n",
    "import matplotlib.pyplot as plt\n",
    "plt.scatter(country_features['happiness_score'], country_features['healthy_life_expectancy'], alpha=0.5)\n",
    "plt.show()\n",
    "\n"
   ]
  },
  {
   "cell_type": "markdown",
   "metadata": {},
   "source": [
    "# Quiz\n",
    "### Question 1. What visualizations are suitable for getting insights about the distribution of a single continuous variable?\n",
    "\n",
    "- a) Barplot and histogram(Correct)\n",
    "- b) Boxplot and histogram\n",
    "- c) Scatterplot and boxplot\n",
    "- d) Barplot, boxplot, and histogram\n",
    "\n",
    "\n",
    "### Question 2: Complex ML models...\n",
    " - a) tend to have high bias and low variance\n",
    " - b) are always interpretable\n",
    " - c) are prone to overfitting(Correct)\n",
    " - d) are prone to underfitting\n",
    "\n",
    "\n",
    "### Question 3: Which of the following classification models fulfills all three characteristics: i) it is the quickest to train, ii) it is able to handle complex decision boundaries, and iii) it doesn’t require additional retraining to make predictions that take into account freshly obtained data points?\n",
    "\n",
    " - a) logistic regression\n",
    " - b) k nearest neighbors\n",
    " - c) random forest \n",
    " - d) deep neural network(Correct)\n",
    " \n",
    " \n",
    "\n",
    "### Question 4: Which of the following real-world ML applications is not unsupervised learning?\n",
    "1. Netflix matrix factorization pipeline to discover users with similar interests\n",
    "2. Speaker recognition (recognition of the identity of who is talking) in phones and smart assistant devices(Correct)\n",
    "3. LDA topic modeling on Twitter content to discover customers' opinions about a product\n",
    "4. K-means clustering of Web domains \n"
   ]
  },
  {
   "cell_type": "markdown",
   "metadata": {},
   "source": [
    "# Please Note down here the time you took to solve the quiz:"
   ]
  },
  {
   "cell_type": "code",
   "execution_count": null,
   "metadata": {},
   "outputs": [],
   "source": [
    "(2 hours-10 minutes)"
   ]
  }
 ],
 "metadata": {
  "kernelspec": {
   "display_name": "Python 3",
   "language": "python",
   "name": "python3"
  },
  "language_info": {
   "codemirror_mode": {
    "name": "ipython",
    "version": 3
   },
   "file_extension": ".py",
   "mimetype": "text/x-python",
   "name": "python",
   "nbconvert_exporter": "python",
   "pygments_lexer": "ipython3",
   "version": "3.9.5"
  }
 },
 "nbformat": 4,
 "nbformat_minor": 4
}
